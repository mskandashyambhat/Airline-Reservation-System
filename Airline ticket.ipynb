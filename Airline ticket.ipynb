{
 "cells": [
  {
   "cell_type": "code",
   "execution_count": 4,
   "id": "385bd983-7011-4172-be69-0d6ee115b41b",
   "metadata": {},
   "outputs": [],
   "source": [
    "import datetime\n",
    "import random\n",
    "import logging\n",
    "\n",
    "logging.basicConfig(level=logging.INFO, format='%(asctime)s - %(levelname)s - %(message)s')\n",
    "\n",
    "class Flight:\n",
    "    def __init__(self, flight_number, origin, destination, departure_time, total_seats, base_prices):\n",
    "        if departure_time <= datetime.datetime.now():\n",
    "            raise ValueError(\"Departure time must be in the future.\")\n",
    "        self.flight_number = flight_number\n",
    "        self.origin = origin\n",
    "        self.destination = destination\n",
    "        self.departure_time = departure_time\n",
    "        self.total_seats = total_seats\n",
    "        self.available_seats = {'Economy': total_seats // 2, 'Business': total_seats // 3, 'First Class': total_seats // 6}\n",
    "        self.base_prices = base_prices\n",
    "\n",
    "    def calculate_dynamic_price(self, seat_class):\n",
    "        time_remaining = (self.departure_time - datetime.datetime.now()).days\n",
    "        demand_factor = random.uniform(1.0, 2.0)\n",
    "        availability_factor = (self.total_seats - sum(self.available_seats.values())) / self.total_seats\n",
    "        competitor_factor = random.uniform(0.9, 1.1)\n",
    "\n",
    "        base_price = self.base_prices[seat_class]\n",
    "\n",
    "        price = base_price * (1 + availability_factor) * demand_factor * competitor_factor\n",
    "\n",
    "        if time_remaining < 7:\n",
    "            price *= 1.5\n",
    "        elif time_remaining < 30:\n",
    "            price *= 1.2\n",
    "\n",
    "        return round(price, 2)\n",
    "\n",
    "    def book_ticket(self, seat_class):\n",
    "        if seat_class not in self.available_seats:\n",
    "            raise ValueError(f\"Invalid seat class: {seat_class}\")\n",
    "\n",
    "        if self.available_seats[seat_class] > 0:\n",
    "            ticket_price = self.calculate_dynamic_price(seat_class)\n",
    "            self.available_seats[seat_class] -= 1\n",
    "            logging.info(f\"Ticket booked: Flight {self.flight_number}, Class {seat_class}, Price ${ticket_price}\")\n",
    "            return f\"Ticket booked in {seat_class}! Price: ${ticket_price}\"\n",
    "        else:\n",
    "            logging.warning(f\"No seats available: Flight {self.flight_number}, Class {seat_class}\")\n",
    "            return f\"No seats available in {seat_class} class!\"\n",
    "\n",
    "    def flight_info(self):\n",
    "        return (f\"Flight {self.flight_number} | {self.origin} → {self.destination} | \"\n",
    "                f\"Departure: {self.departure_time.strftime('%Y-%m-%d %H:%M')} | \"\n",
    "                f\"Seats Left: Economy={self.available_seats['Economy']}, \"\n",
    "                f\"Business={self.available_seats['Business']}, \"\n",
    "                f\"First Class={self.available_seats['First Class']}\")\n",
    "\n",
    "def search_flights(flights, origin, destination, departure_date):\n",
    "    results = []\n",
    "    for flight in flights:\n",
    "        if (flight.origin == origin and flight.destination == destination and\n",
    "                flight.departure_time.date() == departure_date.date()):\n",
    "            results.append(flight)\n",
    "    return results\n",
    "\n",
    "def get_user_input(prompt, input_type=str):\n",
    "    while True:\n",
    "        try:\n",
    "            user_input = input_type(input(prompt))\n",
    "            return user_input\n",
    "        except ValueError:\n",
    "            print(f\"Invalid input. Please enter a valid {input_type.__name__}.\")"
   ]
  },
  {
   "cell_type": "code",
   "execution_count": 5,
   "id": "25e7ca40-b32a-46de-9e4c-78d4ddc2535c",
   "metadata": {},
   "outputs": [
    {
     "name": "stdout",
     "output_type": "stream",
     "text": [
      "Economy Price: $838.0\n",
      "Business Price: $1404.51\n",
      "First Class Price: $3313.03\n"
     ]
    }
   ],
   "source": [
    "flight1 = Flight(\n",
    "    \"AI101\", \"New York\", \"London\", datetime.datetime(2025, 6, 15, 14, 30),\n",
    "    total_seats=120,\n",
    "    base_prices={'Economy': 500, 'Business': 1000, 'First Class': 2000}\n",
    ")\n",
    "\n",
    "economy_price = flight1.calculate_dynamic_price(\"Economy\")\n",
    "business_price = flight1.calculate_dynamic_price(\"Business\")\n",
    "first_class_price = flight1.calculate_dynamic_price(\"First Class\")\n",
    "\n",
    "print(f\"Economy Price: ${economy_price}\")\n",
    "print(f\"Business Price: ${business_price}\")\n",
    "print(f\"First Class Price: ${first_class_price}\")"
   ]
  },
  {
   "cell_type": "code",
   "execution_count": 6,
   "id": "7afbf691-ff68-48b4-8fa9-ceed6eadca76",
   "metadata": {},
   "outputs": [
    {
     "name": "stderr",
     "output_type": "stream",
     "text": [
      "2025-03-10 11:58:25,913 - INFO - Ticket booked: Flight AI101, Class Economy, Price $1025.01\n"
     ]
    },
    {
     "name": "stdout",
     "output_type": "stream",
     "text": [
      "Ticket booked in Economy! Price: $1025.01\n",
      "Flight AI101 | New York → London | Departure: 2025-06-15 14:30 | Seats Left: Economy=59, Business=40, First Class=20\n"
     ]
    }
   ],
   "source": [
    "print(flight1.book_ticket(\"Economy\"))\n",
    "print(flight1.flight_info())"
   ]
  },
  {
   "cell_type": "code",
   "execution_count": 7,
   "id": "6bfa0fbb-9e87-4502-9aa8-1eee8f8b7daf",
   "metadata": {},
   "outputs": [
    {
     "name": "stdout",
     "output_type": "stream",
     "text": [
      "Economy Price (Christmas Day): $1.2\n"
     ]
    }
   ],
   "source": [
    "flight2 = Flight(\n",
    "    \"BA202\", \"London\", \"Paris\", datetime.datetime(2025, 12, 25, 10, 0),\n",
    "    total_seats=80,\n",
    "    base_prices={'Economy': 1, 'Business': 2, 'First Class': 3}\n",
    ")\n",
    "\n",
    "print(f\"Economy Price (Christmas Day): ${flight2.calculate_dynamic_price('Economy')}\")"
   ]
  },
  {
   "cell_type": "code",
   "execution_count": 8,
   "id": "53ac806d-b850-4e50-8ab6-558c63e8da1f",
   "metadata": {},
   "outputs": [
    {
     "name": "stdout",
     "output_type": "stream",
     "text": [
      "Requirement already satisfied: qrcode in c:\\users\\deepa\\anaconda3\\lib\\site-packages (8.0)\n",
      "Requirement already satisfied: colorama in c:\\users\\deepa\\anaconda3\\lib\\site-packages (from qrcode) (0.4.6)\n",
      "Note: you may need to restart the kernel to use updated packages.\n"
     ]
    }
   ],
   "source": [
    "pip install qrcode"
   ]
  },
  {
   "cell_type": "code",
   "execution_count": 10,
   "id": "02480cd6-6b7f-4f17-8158-782e7b23e6f9",
   "metadata": {},
   "outputs": [
    {
     "name": "stdout",
     "output_type": "stream",
     "text": [
      "^C\n",
      "Note: you may need to restart the kernel to use updated packages.\n",
      "Collecting Pillow\n",
      "  Downloading pillow-11.1.0-cp311-cp311-win_amd64.whl.metadata (9.3 kB)\n",
      "Downloading pillow-11.1.0-cp311-cp311-win_amd64.whl (2.6 MB)\n",
      "   ---------------------------------------- 0.0/2.6 MB ? eta -:--:--\n",
      "   ---------------------------------------- 0.0/2.6 MB ? eta -:--:--\n",
      "   ---------------------------------------- 0.0/2.6 MB 330.3 kB/s eta 0:00:08\n",
      "   ---------------------------------------- 0.0/2.6 MB 262.6 kB/s eta 0:00:10\n",
      "    --------------------------------------- 0.0/2.6 MB 326.8 kB/s eta 0:00:08\n",
      "    --------------------------------------- 0.1/2.6 MB 297.7 kB/s eta 0:00:09\n",
      "   - -------------------------------------- 0.1/2.6 MB 374.1 kB/s eta 0:00:07\n",
      "   - -------------------------------------- 0.1/2.6 MB 374.1 kB/s eta 0:00:07\n",
      "   - -------------------------------------- 0.1/2.6 MB 374.1 kB/s eta 0:00:07\n",
      "   - -------------------------------------- 0.1/2.6 MB 297.7 kB/s eta 0:00:09\n",
      "   - -------------------------------------- 0.1/2.6 MB 277.4 kB/s eta 0:00:10\n",
      "   -- ------------------------------------- 0.1/2.6 MB 293.9 kB/s eta 0:00:09\n",
      "   -- ------------------------------------- 0.2/2.6 MB 327.5 kB/s eta 0:00:08\n",
      "   -- ------------------------------------- 0.2/2.6 MB 308.5 kB/s eta 0:00:08\n",
      "   -- ------------------------------------- 0.2/2.6 MB 318.9 kB/s eta 0:00:08\n",
      "   --- ------------------------------------ 0.2/2.6 MB 311.3 kB/s eta 0:00:08\n",
      "   --- ------------------------------------ 0.2/2.6 MB 327.8 kB/s eta 0:00:08\n",
      "   --- ------------------------------------ 0.2/2.6 MB 327.6 kB/s eta 0:00:08\n",
      "   --- ------------------------------------ 0.3/2.6 MB 314.7 kB/s eta 0:00:08\n",
      "   ---- ----------------------------------- 0.3/2.6 MB 309.9 kB/s eta 0:00:08\n",
      "   ---- ----------------------------------- 0.3/2.6 MB 309.9 kB/s eta 0:00:08\n",
      "   ---- ----------------------------------- 0.3/2.6 MB 305.2 kB/s eta 0:00:08\n",
      "   ---- ----------------------------------- 0.3/2.6 MB 306.5 kB/s eta 0:00:08\n",
      "   ----- ---------------------------------- 0.3/2.6 MB 317.8 kB/s eta 0:00:08\n",
      "   ----- ---------------------------------- 0.4/2.6 MB 327.6 kB/s eta 0:00:07\n",
      "   ----- ---------------------------------- 0.4/2.6 MB 336.8 kB/s eta 0:00:07\n",
      "   ------ --------------------------------- 0.4/2.6 MB 367.0 kB/s eta 0:00:06\n",
      "   ------- -------------------------------- 0.5/2.6 MB 394.8 kB/s eta 0:00:06\n",
      "   ------- -------------------------------- 0.5/2.6 MB 398.3 kB/s eta 0:00:06\n",
      "   -------- ------------------------------- 0.5/2.6 MB 393.3 kB/s eta 0:00:06\n",
      "   -------- ------------------------------- 0.5/2.6 MB 393.3 kB/s eta 0:00:06\n",
      "   -------- ------------------------------- 0.6/2.6 MB 400.6 kB/s eta 0:00:06\n",
      "   --------- ------------------------------ 0.6/2.6 MB 404.3 kB/s eta 0:00:06\n",
      "   --------- ------------------------------ 0.6/2.6 MB 416.4 kB/s eta 0:00:05\n",
      "   ---------- ----------------------------- 0.7/2.6 MB 432.4 kB/s eta 0:00:05\n",
      "   ---------- ----------------------------- 0.7/2.6 MB 447.8 kB/s eta 0:00:05\n",
      "   ---------- ----------------------------- 0.7/2.6 MB 447.8 kB/s eta 0:00:05\n",
      "   ----------- ---------------------------- 0.7/2.6 MB 441.0 kB/s eta 0:00:05\n",
      "   ----------- ---------------------------- 0.8/2.6 MB 438.9 kB/s eta 0:00:05\n",
      "   ------------ --------------------------- 0.8/2.6 MB 450.2 kB/s eta 0:00:05\n",
      "   ------------ --------------------------- 0.8/2.6 MB 451.8 kB/s eta 0:00:04\n",
      "   ------------- -------------------------- 0.9/2.6 MB 471.1 kB/s eta 0:00:04\n",
      "   -------------- ------------------------- 0.9/2.6 MB 480.8 kB/s eta 0:00:04\n",
      "   --------------- ------------------------ 1.0/2.6 MB 499.3 kB/s eta 0:00:04\n",
      "   --------------- ------------------------ 1.0/2.6 MB 499.3 kB/s eta 0:00:04\n",
      "   --------------- ------------------------ 1.0/2.6 MB 486.4 kB/s eta 0:00:04\n",
      "   --------------- ------------------------ 1.0/2.6 MB 486.7 kB/s eta 0:00:04\n",
      "   ---------------- ----------------------- 1.1/2.6 MB 494.0 kB/s eta 0:00:04\n",
      "   ----------------- ---------------------- 1.1/2.6 MB 499.6 kB/s eta 0:00:04\n",
      "   ----------------- ---------------------- 1.2/2.6 MB 510.6 kB/s eta 0:00:03\n",
      "   ------------------ --------------------- 1.2/2.6 MB 531.3 kB/s eta 0:00:03\n",
      "   ------------------- -------------------- 1.3/2.6 MB 542.6 kB/s eta 0:00:03\n",
      "   -------------------- ------------------- 1.3/2.6 MB 553.3 kB/s eta 0:00:03\n",
      "   --------------------- ------------------ 1.4/2.6 MB 568.2 kB/s eta 0:00:03\n",
      "   ---------------------- ----------------- 1.5/2.6 MB 577.5 kB/s eta 0:00:03\n",
      "   ---------------------- ----------------- 1.5/2.6 MB 579.3 kB/s eta 0:00:02\n",
      "   ---------------------- ----------------- 1.5/2.6 MB 579.9 kB/s eta 0:00:02\n",
      "   ----------------------- ---------------- 1.6/2.6 MB 582.2 kB/s eta 0:00:02\n",
      "   ------------------------ --------------- 1.6/2.6 MB 582.9 kB/s eta 0:00:02\n",
      "   ------------------------ --------------- 1.6/2.6 MB 584.6 kB/s eta 0:00:02\n",
      "   ------------------------ --------------- 1.6/2.6 MB 582.1 kB/s eta 0:00:02\n",
      "   ------------------------- -------------- 1.7/2.6 MB 583.0 kB/s eta 0:00:02\n",
      "   ------------------------- -------------- 1.7/2.6 MB 587.7 kB/s eta 0:00:02\n",
      "   -------------------------- ------------- 1.7/2.6 MB 588.0 kB/s eta 0:00:02\n",
      "   -------------------------- ------------- 1.7/2.6 MB 582.6 kB/s eta 0:00:02\n",
      "   --------------------------- ------------ 1.8/2.6 MB 587.8 kB/s eta 0:00:02\n",
      "   --------------------------- ------------ 1.8/2.6 MB 591.5 kB/s eta 0:00:02\n",
      "   ---------------------------- ----------- 1.9/2.6 MB 593.1 kB/s eta 0:00:02\n",
      "   ---------------------------- ----------- 1.9/2.6 MB 587.5 kB/s eta 0:00:02\n",
      "   ---------------------------- ----------- 1.9/2.6 MB 587.5 kB/s eta 0:00:02\n",
      "   ----------------------------- ---------- 1.9/2.6 MB 586.3 kB/s eta 0:00:02\n",
      "   ----------------------------- ---------- 1.9/2.6 MB 587.0 kB/s eta 0:00:02\n",
      "   ----------------------------- ---------- 2.0/2.6 MB 584.6 kB/s eta 0:00:02\n",
      "   ------------------------------ --------- 2.0/2.6 MB 579.8 kB/s eta 0:00:02\n",
      "   ------------------------------ --------- 2.0/2.6 MB 580.8 kB/s eta 0:00:02\n",
      "   ------------------------------- -------- 2.0/2.6 MB 582.0 kB/s eta 0:00:02\n",
      "   ------------------------------- -------- 2.1/2.6 MB 580.3 kB/s eta 0:00:01\n",
      "   -------------------------------- ------- 2.1/2.6 MB 586.7 kB/s eta 0:00:01\n",
      "   -------------------------------- ------- 2.1/2.6 MB 579.4 kB/s eta 0:00:01\n",
      "   -------------------------------- ------- 2.1/2.6 MB 577.5 kB/s eta 0:00:01\n",
      "   -------------------------------- ------- 2.2/2.6 MB 573.2 kB/s eta 0:00:01\n",
      "   --------------------------------- ------ 2.2/2.6 MB 576.9 kB/s eta 0:00:01\n",
      "   --------------------------------- ------ 2.2/2.6 MB 577.8 kB/s eta 0:00:01\n",
      "   ---------------------------------- ----- 2.3/2.6 MB 576.3 kB/s eta 0:00:01\n",
      "   ---------------------------------- ----- 2.3/2.6 MB 577.0 kB/s eta 0:00:01\n",
      "   ----------------------------------- ---- 2.3/2.6 MB 580.5 kB/s eta 0:00:01\n",
      "   ----------------------------------- ---- 2.3/2.6 MB 581.1 kB/s eta 0:00:01\n",
      "   ------------------------------------ --- 2.4/2.6 MB 585.1 kB/s eta 0:00:01\n",
      "   ------------------------------------- -- 2.4/2.6 MB 590.6 kB/s eta 0:00:01\n",
      "   ------------------------------------- -- 2.4/2.6 MB 588.5 kB/s eta 0:00:01\n",
      "   ------------------------------------- -- 2.5/2.6 MB 589.3 kB/s eta 0:00:01\n",
      "   -------------------------------------- - 2.5/2.6 MB 590.5 kB/s eta 0:00:01\n",
      "   ---------------------------------------  2.6/2.6 MB 595.9 kB/s eta 0:00:01\n",
      "   ---------------------------------------  2.6/2.6 MB 601.1 kB/s eta 0:00:01\n",
      "   ---------------------------------------- 2.6/2.6 MB 597.8 kB/s eta 0:00:00\n",
      "Installing collected packages: Pillow\n",
      "Successfully installed Pillow-11.1.0\n",
      "Collecting Pillow\n",
      "  Using cached pillow-11.1.0-cp311-cp311-win_amd64.whl.metadata (9.3 kB)\n",
      "Using cached pillow-11.1.0-cp311-cp311-win_amd64.whl (2.6 MB)\n",
      "Installing collected packages: Pillow\n",
      "Successfully installed Pillow-11.1.0\n"
     ]
    }
   ],
   "source": [
    "pip install Pillow"
   ]
  },
  {
   "cell_type": "code",
   "execution_count": 11,
   "id": "2561132c-b696-4424-826a-c5751a181b94",
   "metadata": {},
   "outputs": [],
   "source": [
    "import qrcode\n",
    "import io\n",
    "from PIL import Image  # For displaying the QR code in Jupyter\n",
    "\n",
    "def generate_upi_qr(upi_id, payee_name, amount):\n",
    "    \"\"\"Generates a UPI QR code.\"\"\"\n",
    "    upi_string = f\"upi://pay?pa={upi_id}&pn={payee_name}&am={amount}\"\n",
    "\n",
    "    qr = qrcode.QRCode(\n",
    "        version=1,\n",
    "        error_correction=qrcode.constants.ERROR_CORRECT_L,\n",
    "        box_size=10,\n",
    "        border=4,\n",
    "    )\n",
    "    qr.add_data(upi_string)\n",
    "    qr.make(fit=True)\n",
    "\n",
    "    img = qr.make_image(fill_color=\"black\", back_color=\"white\")\n",
    "\n",
    "    return img\n",
    "\n",
    "def display_qr(qr_image):\n",
    "    \"\"\"Displays the QR code image in Jupyter.\"\"\"\n",
    "    img_buffer = io.BytesIO()\n",
    "    qr_image.save(img_buffer, 'PNG')\n",
    "    img_buffer.seek(0)\n",
    "    img = Image.open(img_buffer)\n",
    "    img.show() #this may not work in all environments.\n",
    "    return img #return the image so it can be shown in some environments\n",
    "\n",
    "# Example usage within Jupyter\n",
    "upi_id = \"deepamk725@okhdfcbank\"  # Replace with your actual UPI ID\n",
    "payee_name = \"AirlineTicket\"\n",
    "amount = 1.0  # Example ticket price (replace with your dynamic price)\n",
    "\n",
    "qr_image = generate_upi_qr(upi_id, payee_name, amount)\n",
    "image = display_qr(qr_image) #display the image."
   ]
  },
  {
   "cell_type": "code",
   "execution_count": null,
   "id": "c0788618-122f-48b1-a715-031dbddc5683",
   "metadata": {},
   "outputs": [],
   "source": []
  },
  {
   "cell_type": "code",
   "execution_count": null,
   "id": "59afc5aa-31cf-49fa-bcd8-513646714922",
   "metadata": {},
   "outputs": [],
   "source": []
  }
 ],
 "metadata": {
  "kernelspec": {
   "display_name": "Python 3 (ipykernel)",
   "language": "python",
   "name": "python3"
  },
  "language_info": {
   "codemirror_mode": {
    "name": "ipython",
    "version": 3
   },
   "file_extension": ".py",
   "mimetype": "text/x-python",
   "name": "python",
   "nbconvert_exporter": "python",
   "pygments_lexer": "ipython3",
   "version": "3.11.7"
  }
 },
 "nbformat": 4,
 "nbformat_minor": 5
}
